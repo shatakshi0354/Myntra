{
 "cells": [
  {
   "cell_type": "code",
   "execution_count": null,
   "id": "cef4db92",
   "metadata": {},
   "outputs": [],
   "source": [
    "import os\n",
    "import cv2\n",
    "import glob\n",
    "import numpy as np\n",
    "import pandas as pd\n",
    "import matplotlib.pyplot as plt\n",
    "from keras.models import model_from_json\n",
    "%matplotlib inline"
   ]
  },
  {
   "cell_type": "code",
   "execution_count": null,
   "id": "9b5b8db9",
   "metadata": {},
   "outputs": [],
   "source": [
    "# ----- LOAD SAVED MODEL -----\n",
    "json_file = open('model.json', 'r')     \n",
    "loaded_model_json = json_file.read()\n",
    "json_file.close()\n",
    "loaded_model = model_from_json(loaded_model_json)\n",
    "# load weights into new model\n",
    "loaded_model.load_weights(\"model.h5\")\n",
    "print(\"Loaded model from disk.\")"
   ]
  },
  {
   "cell_type": "code",
   "execution_count": null,
   "id": "00b993a7",
   "metadata": {},
   "outputs": [],
   "source": [
    "from keras.preprocessing.image import ImageDataGenerator\n",
    "\n",
    "train_datagen = ImageDataGenerator(rescale = 1./255,\n",
    "                                   shear_range = 0.2,\n",
    "                                   zoom_range = 0.2,\n",
    "                                   horizontal_flip = True)\n",
    "training_set = train_datagen.flow_from_directory('dataset_category',\n",
    "                                                 target_size = (64, 64),\n",
    "                                                 batch_size = 32,\n",
    "                                                 class_mode = 'categorical')"
   ]
  },
  {
   "cell_type": "code",
   "execution_count": null,
   "id": "5375528f",
   "metadata": {},
   "outputs": [],
   "source": [
    "import numpy as np\n",
    "from keras.preprocessing import image\n",
    "test_image = image.load_img('dataset_category/stripes/851506557.jpg', target_size = (64, 64))\n",
    "test_image = image.img_to_array(test_image)\n",
    "test_image = np.expand_dims(test_image, axis = 0)\n",
    "result = http://localhost:8888/notebooks/OneDrive/Desktop/New%20folder/Myntra/stylematch/image_similarity.ipynb#loaded_model.predict(test_image)\n",
    "training_set.class_indices"
   ]
  },
  {
   "cell_type": "code",
   "execution_count": null,
   "id": "1a5eb8b7",
   "metadata": {},
   "outputs": [],
   "source": []
  },
  {
   "cell_type": "code",
   "execution_count": null,
   "id": "7020d9a0",
   "metadata": {},
   "outputs": [],
   "source": [
    "index = np.where(result[0] == 1)[0][0]\n",
    "index"
   ]
  },
  {
   "cell_type": "code",
   "execution_count": null,
   "id": "9b079107",
   "metadata": {},
   "outputs": [],
   "source": [
    "predicted_category = list(training_set.class_indices.keys())[list(training_set.class_indices.values()).index(index)]\n",
    "predicted_category"
   ]
  },
  {
   "cell_type": "code",
   "execution_count": null,
   "id": "adfd8a2d",
   "metadata": {},
   "outputs": [],
   "source": [
    "path = 'dataset_category/'+ predicted_category+'/'\n",
    "extension = '*.jpg'\n",
    "path+extension\n"
   ]
  },
  {
   "cell_type": "code",
   "execution_count": null,
   "id": "f07250e6",
   "metadata": {},
   "outputs": [],
   "source": [
    "result = [i for i in glob.glob(path+extension)]\n",
    "# print(result)\n",
    "len(result) # length of array which contains the path to similar images"
   ]
  },
  {
   "cell_type": "code",
   "execution_count": null,
   "id": "8a677014",
   "metadata": {},
   "outputs": [],
   "source": [
    "img = cv2.imread(result[0])"
   ]
  },
  {
   "cell_type": "code",
   "execution_count": null,
   "id": "7fb44f6a",
   "metadata": {},
   "outputs": [],
   "source": [
    "plt.imshow(cv2.cvtColor(img, cv2.COLOR_BGR2RGB))"
   ]
  },
  {
   "cell_type": "code",
   "execution_count": null,
   "id": "1029c509",
   "metadata": {},
   "outputs": [],
   "source": [
    "images = result[1:10]"
   ]
  },
  {
   "cell_type": "code",
   "execution_count": null,
   "id": "e14b4460",
   "metadata": {},
   "outputs": [],
   "source": [
    "from matplotlib.pyplot import figure\n",
    "figure(num=None, figsize=(16, 8), dpi=180, facecolor='w', edgecolor='k')\n",
    "for i, image in enumerate(images, start=1):\n",
    "    image_array = cv2.imread(image)\n",
    "    \n",
    "    image_array = cv2.cvtColor(image_array, cv2.COLOR_BGR2RGB)\n",
    "    plt.subplot(330+i)\n",
    "    plt.axis('off')\n",
    "    plt.imshow(image_array, cmap=plt.get_cmap('gray'))\n",
    "\n",
    "plt.show()"
   ]
  }
 ],
 "metadata": {
  "kernelspec": {
   "display_name": "Python 3 (ipykernel)",
   "language": "python",
   "name": "python3"
  },
  "language_info": {
   "codemirror_mode": {
    "name": "ipython",
    "version": 3
   },
   "file_extension": ".py",
   "mimetype": "text/x-python",
   "name": "python",
   "nbconvert_exporter": "python",
   "pygments_lexer": "ipython3",
   "version": "3.11.5"
  }
 },
 "nbformat": 4,
 "nbformat_minor": 5
}
